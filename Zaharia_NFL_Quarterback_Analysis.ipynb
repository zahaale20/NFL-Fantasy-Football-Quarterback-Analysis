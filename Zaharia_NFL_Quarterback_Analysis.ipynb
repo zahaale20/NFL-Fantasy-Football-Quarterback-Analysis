{
  "nbformat": 4,
  "nbformat_minor": 0,
  "metadata": {
    "colab": {
      "provenance": []
    },
    "kernelspec": {
      "name": "python3",
      "display_name": "Python 3"
    },
    "language_info": {
      "name": "python"
    }
  },
  "cells": [
    {
      "cell_type": "markdown",
      "source": [
        "# NFL Fantasy Football Quarterback Analysis\n",
        "July 26, 2023\n",
        "\n",
        "Alex Zaharia"
      ],
      "metadata": {
        "id": "0r4yyzNwHqiL"
      }
    },
    {
      "cell_type": "markdown",
      "source": [
        "# Introduction\n",
        "I chose this topic because of the relevance football and fantasy football have in my life. I'm a huge Seahawks fan. I also play fantasy football every year with 9 of my friends. This year everyone is pooling in $100 each. The winner of the league gets the whole 1000 dollars and loser has to deal with a punishment (that we haven't come up with yet). It's very high stakes. This analysis helps me with analyzing the top quarterbacks for the 2023 season."
      ],
      "metadata": {
        "id": "W_3aFV0efz8N"
      }
    },
    {
      "cell_type": "markdown",
      "source": [
        "#Files/Sources:\n",
        "### 1. weekly_data.csv (1999-2022, Kaggle)\n",
        "- Weekly data of all active NFL offensive players from 1999-2022.\n",
        "- https://www.kaggle.com/datasets/philiphyde1/nfl-stats-1999-2022?resource=download&select=weekly_data.xlsx\n",
        "\n",
        "### 2. injury_data.csv (2023, ESPN)\n",
        "- Injury data for players going into the 2023 season.\n",
        "- https://www.espn.com/nfl/injuries\n",
        "\n",
        "### 3. starters_data.csv (2022, CBS)\n",
        "- Starting quarterbacks for each team going into the 2023 season.\n",
        "- https://www.cbssports.com/nfl/news/2023-nfl-qb-power-rankings-lamar-jackson-aaron-rodgers-both-crack-top-10-in-first-rundown-of-all-32-starters/\n",
        "\n",
        "## Structure:\n",
        "**weekly_data.csv** has 56 columns, but we will only focus on 1 of them:\n",
        "- name\n",
        "- position\n",
        "- fantasy_points\n",
        "- Completions\n",
        "- Passing Yards\n",
        "- Carries\n",
        "- Rushing Yards\n",
        "\n",
        "**injury_data.csv** has 5 columns:\n",
        "- name\n",
        "- position\n",
        "- date\n",
        "- status\n",
        "- comment\n",
        "\n",
        "**starters_data.csv** has 2 columns:\n",
        "- name\n",
        "- team\n",
        "\n",
        "## Considerations:\n",
        "- **Excluded qbs drafted in 2023:** This analysis doesn't include any quarterbacks drafted in 2023. This is because newly drafted quarterbacks often get limited play time and won't start if there is a veteran quarterback already on their team.\n",
        "\n",
        "- **Time Frame:** The analysis is based on data from 2022, the prior season. It's important to note that the NFL and player performance can evolve over time due to rule changes, coaching strategies, and player development. Therefore, historical data might not fully reflect the current trends in quarterback performance.\n",
        "\n",
        "- **Trades & Transfers:** Player trades or transfers after the 2022 season are not accounted for. Its important to note that changes in a team can significantly influence a quarterback's fantasy points and overall performance. I decided not to include this information because it is very time consuming and I wanted prioritize other aspects of this analysis.\n"
      ],
      "metadata": {
        "id": "SV0EY_KgBhiO"
      }
    },
    {
      "cell_type": "markdown",
      "source": [
        "# Setup - Installation and Creating Data Frames"
      ],
      "metadata": {
        "id": "7MHlmFwJO4EV"
      }
    },
    {
      "cell_type": "code",
      "source": [
        "!pip install pyspark\n",
        "!pip install -U -q PyDrive\n",
        "!apt install openjdk-8-jdk-headless -qq\n",
        "import os\n",
        "os.environ[\"JAVA_HOME\"] = \"/usr/lib/jvm/java-8-openjdk-amd64\""
      ],
      "metadata": {
        "id": "JUXHQuTjcrj1",
        "colab": {
          "base_uri": "https://localhost:8080/"
        },
        "outputId": "1ad32c2a-5940-44e6-a795-2ea015f64ae2"
      },
      "execution_count": null,
      "outputs": [
        {
          "output_type": "stream",
          "name": "stdout",
          "text": [
            "Requirement already satisfied: pyspark in /usr/local/lib/python3.10/dist-packages (3.4.1)\n",
            "Requirement already satisfied: py4j==0.10.9.7 in /usr/local/lib/python3.10/dist-packages (from pyspark) (0.10.9.7)\n",
            "openjdk-8-jdk-headless is already the newest version (8u372-ga~us1-0ubuntu1~22.04).\n",
            "0 upgraded, 0 newly installed, 0 to remove and 8 not upgraded.\n"
          ]
        }
      ]
    },
    {
      "cell_type": "code",
      "source": [
        "from pyspark import SparkContext, SparkConf\n",
        "from pyspark.sql import SparkSession, SQLContext, DataFrameStatFunctions as statFuncs\n",
        "from pyspark.sql.functions import col, abs\n",
        "from pyspark.sql.types import StructType, StructField, IntegerType, StringType, DateType, DoubleType\n",
        "from google.colab import drive\n",
        "\n",
        "drive.mount(\"/content/drive\")\n",
        "sc = SparkContext()\n",
        "spark = SparkSession(sc)"
      ],
      "metadata": {
        "id": "5vxdH05dcun9",
        "colab": {
          "base_uri": "https://localhost:8080/"
        },
        "outputId": "93aaeea6-7579-423e-d85b-9262c40d477f"
      },
      "execution_count": null,
      "outputs": [
        {
          "output_type": "stream",
          "name": "stdout",
          "text": [
            "Drive already mounted at /content/drive; to attempt to forcibly remount, call drive.mount(\"/content/drive\", force_remount=True).\n"
          ]
        }
      ]
    },
    {
      "cell_type": "markdown",
      "source": [
        "#Input the files"
      ],
      "metadata": {
        "id": "fvEgFx3ME1MV"
      }
    },
    {
      "cell_type": "code",
      "source": [
        "schema = StructType([\n",
        "    StructField(\"name\", StringType(), False),\n",
        "    StructField(\"position\", StringType(), False),\n",
        "    StructField(\"recent_team\", StringType(), False),\n",
        "    StructField(\"season\", IntegerType(), False),\n",
        "    StructField(\"week\", IntegerType(), False),\n",
        "    StructField(\"season_type\", StringType(), False),\n",
        "    StructField(\"completions\", IntegerType(), False),\n",
        "    StructField(\"attempts\", IntegerType(), False),\n",
        "    StructField(\"passing_yards\", DoubleType(), False),\n",
        "    StructField(\"passing_tds\", IntegerType(), False),\n",
        "    StructField(\"interceptions\", IntegerType(), False),\n",
        "    StructField(\"sacks\", IntegerType(), False),\n",
        "    StructField(\"sack_yards\", IntegerType(), False),\n",
        "    StructField(\"sack_fumbles\", IntegerType(), False),\n",
        "    StructField(\"sack_fumbles_lost\", IntegerType(), False),\n",
        "    StructField(\"passing_air_yards\", DoubleType(), False),\n",
        "    StructField(\"passing_yards_after_catch\", DoubleType(), False),\n",
        "    StructField(\"passing_first_downs\", IntegerType(), False),\n",
        "    StructField(\"passing_2pt_conversions\", IntegerType(), False),\n",
        "    StructField(\"carries\", IntegerType(), False),\n",
        "    StructField(\"rushing_yards\", DoubleType(), False),\n",
        "    StructField(\"rushing_tds\", IntegerType(), False),\n",
        "    StructField(\"rushing_fumbles\", IntegerType(), False),\n",
        "    StructField(\"rushing_fumbles_lost\", IntegerType(), False),\n",
        "    StructField(\"rushing_first_downs\", IntegerType(), False),\n",
        "    StructField(\"rushing_2pt_conversions\", IntegerType(), False),\n",
        "    StructField(\"receptions\", IntegerType(), False),\n",
        "    StructField(\"targets\", IntegerType(), False),\n",
        "    StructField(\"receiving_yards\", DoubleType(), False),\n",
        "    StructField(\"receiving_tds\", IntegerType(), False),\n",
        "    StructField(\"receiving_fumbles\", IntegerType(), False),\n",
        "    StructField(\"receiving_fumbles_lost\", IntegerType(), False),\n",
        "    StructField(\"receiving_air_yards\", DoubleType(), False),\n",
        "    StructField(\"receiving_yards_after_catch\", DoubleType(), False),\n",
        "    StructField(\"receiving_first_downs\", IntegerType(), False),\n",
        "    StructField(\"receiving_2pt_conversions\", IntegerType(), False),\n",
        "    StructField(\"target_share\", DoubleType(), False),\n",
        "    StructField(\"air_yards_share\", DoubleType(), False),\n",
        "    StructField(\"fantasy_points\", DoubleType(), False),\n",
        "    StructField(\"fantasy_points_ppr\", DoubleType(), False),\n",
        "    StructField(\"total_yards\", DoubleType(), False),\n",
        "    StructField(\"ypa\", DoubleType(), False),\n",
        "    StructField(\"ypc\", DoubleType(), False),\n",
        "    StructField(\"ypr\", DoubleType(), False),\n",
        "    StructField(\"touches\", IntegerType(), False),\n",
        "    StructField(\"count\", IntegerType(), False),\n",
        "    StructField(\"comp_percentage\", DoubleType(), False),\n",
        "    StructField(\"pass_td_percentage\", DoubleType(), False),\n",
        "    StructField(\"int_percentage\", DoubleType(), False),\n",
        "    StructField(\"rush_td_percentage\", DoubleType(), False),\n",
        "    StructField(\"rec_td_percentage\", DoubleType(), False),\n",
        "    StructField(\"total_tds\", IntegerType(), False),\n",
        "    StructField(\"td_percentage\", DoubleType(), False),\n",
        "    StructField(\"pr\", DoubleType(), False),\n",
        "    StructField(\"ht\", StringType(), False),\n",
        "    StructField(\"wt\", StringType(), False)\n",
        "])\n",
        "weekly_df = spark.read.csv(\"/content/drive/MyDrive/NFLProject/weekly_data.csv\", header=True, schema=schema)\n",
        "weekly_df.select(\"*\").show()"
      ],
      "metadata": {
        "colab": {
          "base_uri": "https://localhost:8080/"
        },
        "id": "BkGotnz-AvRI",
        "outputId": "356e912b-92b4-4f16-aca4-28612937330c"
      },
      "execution_count": null,
      "outputs": [
        {
          "output_type": "stream",
          "name": "stdout",
          "text": [
            "+----------+--------+-----------+------+----+-----------+-----------+--------+-------------+-----------+-------------+-----+----------+------------+-----------------+-----------------+-------------------------+-------------------+-----------------------+-------+-------------+-----------+---------------+--------------------+-------------------+-----------------------+----------+-------+---------------+-------------+-----------------+----------------------+-------------------+---------------------------+---------------------+-------------------------+-----------------+-----------------+--------------+------------------+-----------+---+----+-----+-------+-----+---------------+------------------+--------------+------------------+-----------------+---------+-------------+-----+---+---+\n",
            "|      name|position|recent_team|season|week|season_type|completions|attempts|passing_yards|passing_tds|interceptions|sacks|sack_yards|sack_fumbles|sack_fumbles_lost|passing_air_yards|passing_yards_after_catch|passing_first_downs|passing_2pt_conversions|carries|rushing_yards|rushing_tds|rushing_fumbles|rushing_fumbles_lost|rushing_first_downs|rushing_2pt_conversions|receptions|targets|receiving_yards|receiving_tds|receiving_fumbles|receiving_fumbles_lost|receiving_air_yards|receiving_yards_after_catch|receiving_first_downs|receiving_2pt_conversions|     target_share|  air_yards_share|fantasy_points|fantasy_points_ppr|total_yards|ypa| ypc|  ypr|touches|count|comp_percentage|pass_td_percentage|int_percentage|rush_td_percentage|rec_td_percentage|total_tds|td_percentage|   pr| ht| wt|\n",
            "+----------+--------+-----------+------+----+-----------+-----------+--------+-------------+-----------+-------------+-----+----------+------------+-----------------+-----------------+-------------------------+-------------------+-----------------------+-------+-------------+-----------+---------------+--------------------+-------------------+-----------------------+----------+-------+---------------+-------------+-----------------+----------------------+-------------------+---------------------------+---------------------+-------------------------+-----------------+-----------------+--------------+------------------+-----------+---+----+-----+-------+-----+---------------+------------------+--------------+------------------+-----------------+---------+-------------+-----+---+---+\n",
            "|A.J. Brown|      WR|        TEN|  2019|   1|        REG|          0|       0|          0.0|          0|            0|    0|         0|           0|                0|              0.0|                      0.0|                  0|                      0|      0|          0.0|          0|              0|                   0|                  0|                      0|         3|      4|          100.0|            0|                0|                     0|               54.0|                       56.0|                    2|                        0| 0.16666667163372| 0.37241378426552|          10.0|              13.0|      100.0|0.0| 0.0|33.33|      3|    1|            0.0|               0.0|           0.0|               0.0|              0.0|        0|          0.0|33.87|6-0|226|\n",
            "|A.J. Brown|      WR|        TEN|  2019|   2|        REG|          0|       0|          0.0|          0|            0|    0|         0|           0|                0|              0.0|                      0.0|                  0|                      0|      0|          0.0|          0|              0|                   0|                  0|                      0|         3|      5|           25.0|            0|                0|                     0|               25.0|                        8.0|                    1|                        0| 0.19230769574642| 0.16891892254353|           2.5|               5.5|       25.0|0.0| 0.0| 8.33|      3|    1|            0.0|               0.0|           0.0|               0.0|              0.0|        0|          0.0|33.87|6-0|226|\n",
            "|A.J. Brown|      WR|        TEN|  2019|   3|        REG|          0|       0|          0.0|          0|            0|    0|         0|           0|                0|              0.0|                      0.0|                  0|                      0|      0|          0.0|          0|              0|                   0|                  0|                      0|         1|      5|            4.0|            0|                0|                     0|               69.0|                       -2.0|                    0|                        0| 0.13157895207405| 0.16350710391998|           0.4|               1.4|        4.0|0.0| 0.0|  4.0|      1|    1|            0.0|               0.0|           0.0|               0.0|              0.0|        0|          0.0|33.87|6-0|226|\n",
            "|A.J. Brown|      WR|        TEN|  2019|   4|        REG|          0|       0|          0.0|          0|            0|    0|         0|           0|                0|              0.0|                      0.0|                  0|                      0|      0|          0.0|          0|              0|                   0|                  0|                      0|         3|      3|           94.0|            2|                0|                     0|               43.0|                       51.0|                    3|                        0| 0.13636364042759| 0.33076924085617|          21.4|              24.4|       94.0|0.0| 0.0|31.33|      3|    1|            0.0|               0.0|           0.0|               0.0|            0.667|        2|        0.667|33.87|6-0|226|\n",
            "|A.J. Brown|      WR|        TEN|  2019|   5|        REG|          0|       0|          0.0|          0|            0|    0|         0|           0|                0|              0.0|                      0.0|                  0|                      0|      0|          0.0|          0|              0|                   0|                  0|                      0|         2|      2|           27.0|            0|                0|                     0|               25.0|                        2.0|                    1|                        0|0.095238097012043|  0.2427184432745|           2.7|               4.7|       27.0|0.0| 0.0| 13.5|      2|    1|            0.0|               0.0|           0.0|               0.0|              0.0|        0|          0.0|33.87|6-0|226|\n",
            "|A.J. Brown|      WR|        TEN|  2019|   6|        REG|          0|       0|          0.0|          0|            0|    0|         0|           0|                0|              0.0|                      0.0|                  0|                      0|      0|          0.0|          0|              0|                   0|                  0|                      0|         2|      4|           23.0|            0|                1|                     0|               39.0|                        5.0|                    2|                        0|            0.125|  0.1382978707552|           2.3|               4.3|       23.0|0.0| 0.0| 11.5|      2|    1|            0.0|               0.0|           0.0|               0.0|              0.0|        0|          0.0|33.87|6-0|226|\n",
            "|A.J. Brown|      WR|        TEN|  2019|   7|        REG|          0|       0|          0.0|          0|            0|    0|         0|           0|                0|              0.0|                      0.0|                  0|                      0|      1|         -2.0|          0|              0|                   0|                  0|                      0|         6|      8|           64.0|            0|                0|                     0|               56.0|                       17.0|                    4|                        0| 0.27586206793785| 0.28426396846771|           6.2|              12.2|       62.0|0.0|-2.0|10.67|      7|    1|            0.0|               0.0|           0.0|               0.0|              0.0|        0|          0.0|33.87|6-0|226|\n",
            "|A.J. Brown|      WR|        TEN|  2019|   8|        REG|          0|       0|          0.0|          0|            0|    0|         0|           0|                0|              0.0|                      0.0|                  0|                      0|      0|          0.0|          0|              0|                   0|                  0|                      0|         2|      3|           11.0|            1|                0|                     0|               32.0|                        1.0|                    1|                        0|0.090909093618393|0.094955489039421|           7.1|               9.1|       11.0|0.0| 0.0|  5.5|      2|    1|            0.0|               0.0|           0.0|               0.0|              0.5|        1|          0.5|33.87|6-0|226|\n",
            "|A.J. Brown|      WR|        TEN|  2019|   9|        REG|          0|       0|          0.0|          0|            0|    0|         0|           0|                0|              0.0|                      0.0|                  0|                      0|      0|          0.0|          0|              0|                   0|                  0|                      0|         4|      7|           81.0|            0|                0|                     0|              102.0|                       25.0|                    4|                        0| 0.18918919563293| 0.31097561120987|           8.1|              12.1|       81.0|0.0| 0.0|20.25|      4|    1|            0.0|               0.0|           0.0|               0.0|              0.0|        0|          0.0|33.87|6-0|226|\n",
            "|A.J. Brown|      WR|        TEN|  2019|  10|        REG|          0|       0|          0.0|          0|            0|    0|         0|           0|                0|              0.0|                      0.0|                  0|                      0|      0|          0.0|          0|              0|                   0|                  0|                      0|         1|      4|           17.0|            0|                0|                     0|               89.0|                       12.0|                    1|                        0| 0.21052631735802| 0.35458168387413|           1.7|               2.7|       17.0|0.0| 0.0| 17.0|      1|    1|            0.0|               0.0|           0.0|               0.0|              0.0|        0|          0.0|33.87|6-0|226|\n",
            "|A.J. Brown|      WR|        TEN|  2019|  12|        REG|          0|       0|          0.0|          0|            0|    0|         0|           0|                0|              0.0|                      0.0|                  0|                      0|      0|          0.0|          0|              0|                   0|                  0|                      0|         4|      5|          135.0|            1|                0|                     0|               47.0|                       95.0|                    4|                        0| 0.29411765933037| 0.37301588058472|          19.5|              23.5|      135.0|0.0| 0.0|33.75|      4|    1|            0.0|               0.0|           0.0|               0.0|             0.25|        1|         0.25|33.87|6-0|226|\n",
            "|A.J. Brown|      WR|        TEN|  2019|  13|        REG|          0|       0|          0.0|          0|            0|    0|         0|           0|                0|              0.0|                      0.0|                  0|                      0|      0|          0.0|          0|              0|                   0|                  0|                      0|         3|      4|           45.0|            0|                0|                     0|               38.0|                       17.0|                    2|                        0| 0.19047619402409| 0.23749999701977|           4.5|               7.5|       45.0|0.0| 0.0| 15.0|      3|    1|            0.0|               0.0|           0.0|               0.0|              0.0|        0|          0.0|33.87|6-0|226|\n",
            "|A.J. Brown|      WR|        TEN|  2019|  14|        REG|          0|       0|          0.0|          0|            0|    0|         0|           0|                0|              0.0|                      0.0|                  0|                      0|      1|         13.0|          0|              0|                   0|                  1|                      0|         5|      7|          153.0|            2|                0|                     0|              115.0|                       84.0|                    4|                        0| 0.25925925374031| 0.39115646481514|          28.6|              33.6|      166.0|0.0|13.0| 30.6|      6|    1|            0.0|               0.0|           0.0|               0.0|              0.4|        2|        0.333|33.87|6-0|226|\n",
            "|A.J. Brown|      WR|        TEN|  2019|  15|        REG|          0|       0|          0.0|          0|            0|    0|         0|           0|                0|              0.0|                      0.0|                  0|                      0|      0|          0.0|          0|              0|                   0|                  0|                      0|         8|     13|          114.0|            1|                0|                     0|              178.0|                       36.0|                    6|                        0| 0.36111110448837| 0.46475195884705|          17.4|              25.4|      114.0|0.0| 0.0|14.25|      8|    1|            0.0|               0.0|           0.0|               0.0|            0.125|        1|        0.125|33.87|6-0|226|\n",
            "|A.J. Brown|      WR|        TEN|  2019|  16|        REG|          0|       0|          0.0|          0|            0|    0|         0|           0|                0|              0.0|                      0.0|                  0|                      0|      1|         49.0|          1|              0|                   0|                  1|                      0|         1|      2|           34.0|            0|                0|                     0|               50.0|                        5.0|                    1|                        0|0.079999998211861| 0.22321428358555|          14.3|              15.3|       83.0|0.0|49.0| 34.0|      2|    1|            0.0|               0.0|           0.0|               1.0|              0.0|        1|          0.5|33.87|6-0|226|\n",
            "|A.J. Brown|      WR|        TEN|  2019|  17|        REG|          0|       0|          0.0|          0|            0|    0|         0|           0|                0|              0.0|                      0.0|                  0|                      0|      0|          0.0|          0|              0|                   0|                  0|                      0|         4|      8|          124.0|            1|                0|                     0|              145.0|                       53.0|                    3|                        0| 0.38095238804817| 0.51056337356567|          18.4|              22.4|      124.0|0.0| 0.0| 31.0|      4|    1|            0.0|               0.0|           0.0|               0.0|             0.25|        1|         0.25|33.87|6-0|226|\n",
            "|A.J. Brown|      WR|        TEN|  2020|   1|        REG|          0|       0|          0.0|          0|            0|    0|         0|           0|                0|              0.0|                      0.0|                  0|                      0|      0|          0.0|          0|              0|                   0|                  0|                      0|         5|      8|           39.0|            0|                0|                     0|               51.0|                       14.0|                    3|                        0| 0.20000000298023| 0.22368420660496|           3.9|               8.9|       39.0|0.0| 0.0|  7.8|      5|    1|            0.0|               0.0|           0.0|               0.0|              0.0|        0|          0.0|33.87|6-0|226|\n",
            "|A.J. Brown|      WR|        TEN|  2020|   5|        REG|          0|       0|          0.0|          0|            0|    0|         0|           0|                0|              0.0|                      0.0|                  0|                      0|      0|          0.0|          0|              0|                   0|                  0|                      0|         7|      9|           82.0|            1|                0|                     0|               87.0|                       23.0|                    7|                        0|  0.3214285671711|   0.480662971735|          14.2|              21.2|       82.0|0.0| 0.0|11.71|      7|    1|            0.0|               0.0|           0.0|               0.0|            0.143|        1|        0.143|33.87|6-0|226|\n",
            "|A.J. Brown|      WR|        TEN|  2020|   6|        REG|          0|       0|          0.0|          0|            0|    0|         0|           0|                0|              0.0|                      0.0|                  0|                      0|      0|          0.0|          0|              0|                   0|                  0|                      0|         5|      7|           58.0|            2|                0|                     0|               93.0|                       14.0|                    4|                        0|  0.1707317084074| 0.30097088217735|          17.8|              22.8|       58.0|0.0| 0.0| 11.6|      5|    1|            0.0|               0.0|           0.0|               0.0|              0.4|        2|          0.4|33.87|6-0|226|\n",
            "|A.J. Brown|      WR|        TEN|  2020|   7|        REG|          0|       0|          0.0|          0|            0|    0|         0|           0|                0|              0.0|                      0.0|                  0|                      0|      0|          0.0|          0|              0|                   0|                  0|                      0|         6|      8|          153.0|            1|                0|                     0|               90.0|                       96.0|                    5|                        0| 0.26666668057442| 0.35294118523598|          21.3|              27.3|      153.0|0.0| 0.0| 25.5|      6|    1|            0.0|               0.0|           0.0|               0.0|            0.167|        1|        0.167|33.87|6-0|226|\n",
            "+----------+--------+-----------+------+----+-----------+-----------+--------+-------------+-----------+-------------+-----+----------+------------+-----------------+-----------------+-------------------------+-------------------+-----------------------+-------+-------------+-----------+---------------+--------------------+-------------------+-----------------------+----------+-------+---------------+-------------+-----------------+----------------------+-------------------+---------------------------+---------------------+-------------------------+-----------------+-----------------+--------------+------------------+-----------+---+----+-----+-------+-----+---------------+------------------+--------------+------------------+-----------------+---------+-------------+-----+---+---+\n",
            "only showing top 20 rows\n",
            "\n"
          ]
        }
      ]
    },
    {
      "cell_type": "code",
      "source": [
        "schema = StructType([\n",
        "    StructField(\"name\", StringType(), False),\n",
        "    StructField(\"position\", StringType(), False),\n",
        "    StructField(\"date\", StringType(), False),\n",
        "    StructField(\"status\", StringType(), False),\n",
        "    StructField(\"comment\", StringType(), False)\n",
        "])\n",
        "injury_df = spark.read.csv(\"/content/drive/MyDrive/NFLProject/injury_data.csv\", header=True, schema=schema)\n",
        "injury_df.select(\"*\").show()"
      ],
      "metadata": {
        "colab": {
          "base_uri": "https://localhost:8080/"
        },
        "id": "UzwV1x8g-28H",
        "outputId": "c50bcaac-9521-4bba-fbc6-8e00cf8a67cb"
      },
      "execution_count": null,
      "outputs": [
        {
          "output_type": "stream",
          "name": "stdout",
          "text": [
            "+-------------------+--------+------+---------------+--------------------+\n",
            "|               name|position|  date|         status|             comment|\n",
            "+-------------------+--------+------+---------------+--------------------+\n",
            "|       Kyler Murray|      QB|Jul 12|   Questionable|Murray (knee) sai...|\n",
            "|          Zach Ertz|      TE|Jun 12|   Questionable|\"Coach Jonathan G...|\n",
            "|         BJ Ojulari|      LB| Jun 1|   Questionable|Ojulari has not b...|\n",
            "|   Garrett Williams|      CB|Apr 28|   Questionable|The Cardinals sel...|\n",
            "|   Rashard Lawrence|      DT|Feb 13|   Questionable|                null|\n",
            "|      Caleb Huntley|      RB|Jul 25|            Out|Huntley (Achilles...|\n",
            "|    Calais Campbell|      DT|Jul 25|            Out|Campell (undisclo...|\n",
            "|     Avery Williams|      CB|Jun 16|Injured Reserve|The Falcons place...|\n",
            "|         Kyle Pitts|      TE|Jun 13|   Questionable|Pitts (knee) isn'...|\n",
            "|        B.J. Baylor|      RB|May 16|Injured Reserve|Baylor (undisclos...|\n",
            "|        Tyus Bowser|      LB|Jul 25|            Out|Bowser arrived at...|\n",
            "|         Nick Moore|      LS|Jul 24|            Out|Moore suffered a ...|\n",
            "|     Rashod Bateman|      WR|Jul 24|            Out|The Ravens have p...|\n",
            "|  Damarion Williams|      CB|Jul 21|            Out|Williams (undiscl...|\n",
            "|        Mike Thomas|      WR|Jul 21|            Out|Thomas (shoulder)...|\n",
            "|     Patrick Ricard|      FB|Jul 21|            Out|Ricard (hip) was ...|\n",
            "|       J.K. Dobbins|      RB|Jul 21|            Out|The Ravens placed...|\n",
            "|     Andrew Vorhees|       G|Jul 19|            Out|The Ravens placed...|\n",
            "|Jalyn Armour- Davis|      CB|Jun 15|   Questionable|Armour- Davis (hi...|\n",
            "|         Von Miller|      LB|Jul 25|            Out|Miller (knee) was...|\n",
            "+-------------------+--------+------+---------------+--------------------+\n",
            "only showing top 20 rows\n",
            "\n"
          ]
        }
      ]
    },
    {
      "cell_type": "code",
      "source": [
        "schema = StructType([\n",
        "    StructField(\"name\", StringType(), False),\n",
        "    StructField(\"team\", StringType(), False),\n",
        "    StructField(\"abbreviation\", StringType(), False)\n",
        "])\n",
        "starters_df = spark.read.csv(\"/content/drive/MyDrive/NFLProject/starters_data.csv\", header=True, schema=schema)\n",
        "starters_df.select(\"*\").show()"
      ],
      "metadata": {
        "colab": {
          "base_uri": "https://localhost:8080/"
        },
        "id": "6dU499q7M4Q_",
        "outputId": "91e60f22-2cb6-4798-be45-8dcf4a4ad05e"
      },
      "execution_count": null,
      "outputs": [
        {
          "output_type": "stream",
          "name": "stdout",
          "text": [
            "+----------------+--------------------+------------+\n",
            "|            name|                team|abbreviation|\n",
            "+----------------+--------------------+------------+\n",
            "| Patrick Mahomes|  KANSAS CITY CHIEFS|          KC|\n",
            "|      Joe Burrow|  CINCINNATI BENGALS|         CIN|\n",
            "|     Jalen Hurts| PHILADELPHIA EAGLES|         PHI|\n",
            "|      Josh Allen|       BUFFALO BILLS|         BUF|\n",
            "|  Justin Herbert|LOS ANGELES CHARGERS|         LAC|\n",
            "|   Aaron Rodgers|       NEW YORK JETS|         NYJ|\n",
            "|   Lamar Jackson|    BALTIMORE RAVENS|         BAL|\n",
            "| Trevor Lawrence|JACKSONVILLE JAGUARS|         JAX|\n",
            "|    Dak Prescott|      DALLAS COWBOYS|         DAL|\n",
            "|  Deshaun Watson|    CLEVELAND BROWNS|         CLE|\n",
            "|    Kirk Cousins|   MINNESOTA VIKINGS|         MIN|\n",
            "|     Brock Purdy| SAN FRANCISCO 49ERS|          SF|\n",
            "|      Jared Goff|       DETROIT LIONS|         DET|\n",
            "|      Geno Smith|    SEATTLE SEAHAWKS|         SEA|\n",
            "|    Daniel Jones|     NEW YORK GIANTS|         NYG|\n",
            "|   Justin Fields|       CHICAGO BEARS|         CHI|\n",
            "|  Tua Tagovailoa|      MIAMI DOLPHINS|         MIA|\n",
            "|Matthew Stafford|    LOS ANGELES RAMS|         LAR|\n",
            "|  Russell Wilson|      DENVER BRONCOS|         DEN|\n",
            "|    Kyler Murray|   ARIZONA CARDINALS|         ARI|\n",
            "+----------------+--------------------+------------+\n",
            "only showing top 20 rows\n",
            "\n"
          ]
        }
      ]
    },
    {
      "cell_type": "markdown",
      "source": [
        "# Primary Question:\n",
        "**What are the top quarterback draft picks for the 2023 ESPN Fantasy Football season?**"
      ],
      "metadata": {
        "id": "Dlrf3S0QJKug"
      }
    },
    {
      "cell_type": "markdown",
      "source": [
        "##1. What are the names and total fantasy points for quarterbacks in 2022. Sort by fantasy points in descending order."
      ],
      "metadata": {
        "id": "3A3-a0wR9L-V"
      }
    },
    {
      "cell_type": "code",
      "source": [
        "qb_tfp_df = weekly_df.select(\"name\",\"fantasy_points\") \\\n",
        "            .filter((col(\"position\") == \"QB\") & (col(\"season\") == 2022)) \\\n",
        "            .groupBy(\"name\").sum(\"fantasy_points\") \\\n",
        "            .withColumnRenamed(\"sum(fantasy_points)\", \"totalFantasyPoints\") \\\n",
        "            .sort(col(\"totalFantasyPoints\").desc())\n",
        "\n",
        "qb_tfp_df.show()"
      ],
      "metadata": {
        "id": "p61-VMPbgyY9",
        "colab": {
          "base_uri": "https://localhost:8080/"
        },
        "outputId": "79a7a2bc-906c-45dd-89b5-73b34aefc747"
      },
      "execution_count": null,
      "outputs": [
        {
          "output_type": "stream",
          "name": "stdout",
          "text": [
            "+---------------+------------------+\n",
            "|           name|totalFantasyPoints|\n",
            "+---------------+------------------+\n",
            "|Patrick Mahomes|             416.4|\n",
            "|     Josh Allen|395.52000000000004|\n",
            "|    Jalen Hurts|378.03999999999996|\n",
            "|     Joe Burrow|350.70000000000005|\n",
            "|     Geno Smith|            303.88|\n",
            "|  Justin Fields|            295.98|\n",
            "|Trevor Lawrence|            295.62|\n",
            "|   Kirk Cousins| 291.5799999999999|\n",
            "|   Daniel Jones|             289.0|\n",
            "|     Jared Goff|283.31999999999994|\n",
            "| Justin Herbert|279.25999999999993|\n",
            "|      Tom Brady|271.65999999999997|\n",
            "|  Aaron Rodgers|             239.2|\n",
            "|  Lamar Jackson|236.07999999999998|\n",
            "| Tua Tagovailoa|230.92000000000002|\n",
            "| Russell Wilson|224.75999999999993|\n",
            "|     Derek Carr|219.08000000000004|\n",
            "|   Kyler Murray|            200.52|\n",
            "|   Dak Prescott|             198.6|\n",
            "| Marcus Mariota|            196.56|\n",
            "+---------------+------------------+\n",
            "only showing top 20 rows\n",
            "\n"
          ]
        }
      ]
    },
    {
      "cell_type": "markdown",
      "source": [
        "###Analysis\n",
        "- This list provides us with the total fantasy points scored by all quarterbacks in the 2022 saeson. While it offers valuable insights into their overall performance, relying solely on these points might not present the full picture of their consistency and reliability.\n",
        "\n",
        "- One crucial aspect to consider when using this data for drafting decisions is the potential impact of injuries or illnesses on a quarterback's performance. Throughout a season, quarterbacks may experience injuries or fall sick, leading to missed playing time on the field. The duration of these absences can vary, ranging from only a couple of days to the remainder of the season. Consequently, this can cause certain quarterbacks to have lower total fantasy points for a season, even if they may have performed exceptionally well in the games they did play.\n",
        "\n",
        "- To resolve this issue and make a more informed decision on which quarterbacks to consider for drafting, we will find the names and average fantasy points for all quarterbacks sorted in descending order.\n",
        "\n"
      ],
      "metadata": {
        "id": "s4gUFBceKtIf"
      }
    },
    {
      "cell_type": "markdown",
      "source": [
        "##2. What are the names and average fantasy points for all NFL quarterbacks sorted by points in descending order."
      ],
      "metadata": {
        "id": "bfM5qeFVXPrO"
      }
    },
    {
      "cell_type": "code",
      "source": [
        "qb_afp_df = weekly_df.select(\"name\", \"fantasy_points\") \\\n",
        "                     .filter((col(\"position\") == \"QB\") & (col(\"season\") == 2022)) \\\n",
        "                     .groupBy(\"name\").agg({\"fantasy_points\": \"avg\", \"*\": \"count\"}) \\\n",
        "                     .withColumnRenamed(\"avg(fantasy_points)\", \"avgFantasyPoints\") \\\n",
        "                     .withColumnRenamed(\"count(1)\", \"gamesPlayed\") \\\n",
        "                     .sort(col(\"avgFantasyPoints\").desc())\n",
        "\n",
        "qb_afp_df.show()"
      ],
      "metadata": {
        "colab": {
          "base_uri": "https://localhost:8080/"
        },
        "id": "o7IqhbEdg2FD",
        "outputId": "aa2ac250-6d49-4003-9769-d9211715e04d"
      },
      "execution_count": null,
      "outputs": [
        {
          "output_type": "stream",
          "name": "stdout",
          "text": [
            "+---------------+------------------+-----------+\n",
            "|           name|  avgFantasyPoints|gamesPlayed|\n",
            "+---------------+------------------+-----------+\n",
            "|    Jalen Hurts|25.202666666666666|         15|\n",
            "|     Josh Allen|24.720000000000002|         16|\n",
            "|Patrick Mahomes| 24.49411764705882|         17|\n",
            "|     Joe Burrow|21.918750000000003|         16|\n",
            "|     Davis Webb|             20.82|          1|\n",
            "|  Justin Fields|19.732000000000003|         15|\n",
            "|  Lamar Jackson|19.673333333333332|         12|\n",
            "|     Sam Howell|             18.26|          1|\n",
            "|   Kyler Murray| 18.22909090909091|         11|\n",
            "|   Daniel Jones|           18.0625|         16|\n",
            "|     Geno Smith| 17.87529411764706|         17|\n",
            "| Tua Tagovailoa|17.763076923076923|         13|\n",
            "|Trevor Lawrence|17.389411764705883|         17|\n",
            "|   Kirk Cousins| 17.15176470588235|         17|\n",
            "|     Jared Goff| 16.66588235294117|         17|\n",
            "|   Dak Prescott|             16.55|         12|\n",
            "| Justin Herbert|16.427058823529407|         17|\n",
            "|      Tom Brady|15.979999999999999|         17|\n",
            "| Marcus Mariota|15.120000000000001|         13|\n",
            "| Russell Wilson|14.983999999999996|         15|\n",
            "+---------------+------------------+-----------+\n",
            "only showing top 20 rows\n",
            "\n"
          ]
        }
      ]
    },
    {
      "cell_type": "markdown",
      "source": [
        "##Analysis\n",
        "\n",
        "- Finding the average fantasy points across each game gives us a better representation of how quarterbacks perform when they are healthy and able to play.\n",
        "\n",
        "- Having these two lists and comparing them to find quarterbacks on both lists shows us which quartbacks have the **highest** and **most consistent** fantasy productions.\n",
        "\n"
      ],
      "metadata": {
        "id": "lHafEGidVIko"
      }
    },
    {
      "cell_type": "markdown",
      "source": [
        "##3. What are the names, total fantasy points, average fantasy points, and games played for all NFL quarterbacks in the total fantasy points and average fantasy points category sorted by average, then total fantasy points in descending order.\n",
        "\n",
        "- Combine the last two tables."
      ],
      "metadata": {
        "id": "BejwMnG816QU"
      }
    },
    {
      "cell_type": "code",
      "source": [
        "final_df = qb_tfp_df.join(qb_afp_df, qb_tfp_df[\"name\"] == qb_afp_df[\"name\"])\n",
        "final_df = final_df.select(\n",
        "    qb_tfp_df[\"name\"],\n",
        "    qb_tfp_df[\"totalFantasyPoints\"],\n",
        "    qb_afp_df[\"avgFantasyPoints\"],\n",
        "    qb_afp_df[\"gamesPlayed\"]) \\\n",
        "    .sort(qb_tfp_df[\"totalFantasyPoints\"].desc()) \\\n",
        "    .sort(qb_afp_df[\"avgFantasyPoints\"].desc()) \\\n",
        "    .withColumnRenamed(\"name\", \"qbName\") \\\n",
        "    .withColumnRenamed(\"count(1)\", \"gamesPlayed\")\n",
        "final_df.show(15)"
      ],
      "metadata": {
        "colab": {
          "base_uri": "https://localhost:8080/"
        },
        "id": "DNy4JVV0ol7F",
        "outputId": "560166a4-555a-4573-ece8-7e0c58c0ab16"
      },
      "execution_count": null,
      "outputs": [
        {
          "output_type": "stream",
          "name": "stdout",
          "text": [
            "+---------------+------------------+------------------+-----------+\n",
            "|         qbName|totalFantasyPoints|  avgFantasyPoints|gamesPlayed|\n",
            "+---------------+------------------+------------------+-----------+\n",
            "|    Jalen Hurts|378.03999999999996|25.202666666666666|         15|\n",
            "|     Josh Allen|395.52000000000004|24.720000000000002|         16|\n",
            "|Patrick Mahomes|             416.4| 24.49411764705882|         17|\n",
            "|     Joe Burrow|350.70000000000005|21.918750000000003|         16|\n",
            "|     Davis Webb|             20.82|             20.82|          1|\n",
            "|  Justin Fields|            295.98|19.732000000000003|         15|\n",
            "|  Lamar Jackson|236.07999999999998|19.673333333333332|         12|\n",
            "|     Sam Howell|             18.26|             18.26|          1|\n",
            "|   Kyler Murray|            200.52| 18.22909090909091|         11|\n",
            "|   Daniel Jones|             289.0|           18.0625|         16|\n",
            "|     Geno Smith|            303.88| 17.87529411764706|         17|\n",
            "| Tua Tagovailoa|230.92000000000002|17.763076923076923|         13|\n",
            "|Trevor Lawrence|            295.62|17.389411764705883|         17|\n",
            "|   Kirk Cousins| 291.5799999999999| 17.15176470588235|         17|\n",
            "|     Jared Goff|283.31999999999994| 16.66588235294117|         17|\n",
            "+---------------+------------------+------------------+-----------+\n",
            "only showing top 15 rows\n",
            "\n"
          ]
        }
      ]
    },
    {
      "cell_type": "markdown",
      "source": [
        "###Analysis\n",
        "\n",
        "- Notably, Davis Webb and Sam Howell stand out with notably high average points per game. However, to better understand the context behind their performance, it is essential to investigate why they achieved such high scores with only one game played each.\n",
        "\n",
        "- The limited number of games played by these quarterbacks suggests that they might be either backups or starters who faced injuries during the season. As we aim to build our fantasy roster with players who receive substantial playtime and generate the highest overall fantasy production, it becomes crucial to determine if these quarterbacks are indeed regular starters or merely backups.\n"
      ],
      "metadata": {
        "id": "BTpMyZkx3QgQ"
      }
    },
    {
      "cell_type": "markdown",
      "source": [
        "##4. What quarterbacks are starting in the 2023 season?\n",
        "- Remove all players that aren't starters in 2023 from the table.\n"
      ],
      "metadata": {
        "id": "-h2YR2g1QCoY"
      }
    },
    {
      "cell_type": "code",
      "source": [
        "final_df = final_df.join(starters_df, final_df[\"qbName\"] == starters_df[\"name\"])\n",
        "final_df = final_df.select(\"qbName\", \"totalFantasyPoints\", \"avgFantasyPoints\", \"gamesPlayed\") \\\n",
        "    .sort(qb_tfp_df[\"totalFantasyPoints\"].desc()) \\\n",
        "    .sort(qb_afp_df[\"avgFantasyPoints\"].desc())\n",
        "final_df.show()"
      ],
      "metadata": {
        "colab": {
          "base_uri": "https://localhost:8080/"
        },
        "id": "D8AlCceqQK2r",
        "outputId": "a7fd0f77-77b4-4863-c83d-49e4848cdb1b"
      },
      "execution_count": null,
      "outputs": [
        {
          "output_type": "stream",
          "name": "stdout",
          "text": [
            "+---------------+------------------+------------------+-----------+\n",
            "|         qbName|totalFantasyPoints|  avgFantasyPoints|gamesPlayed|\n",
            "+---------------+------------------+------------------+-----------+\n",
            "|    Jalen Hurts|378.03999999999996|25.202666666666666|         15|\n",
            "|     Josh Allen|395.52000000000004|24.720000000000002|         16|\n",
            "|Patrick Mahomes|             416.4| 24.49411764705882|         17|\n",
            "|     Joe Burrow|350.70000000000005|21.918750000000003|         16|\n",
            "|  Justin Fields|            295.98|19.732000000000003|         15|\n",
            "|  Lamar Jackson|236.07999999999998|19.673333333333332|         12|\n",
            "|     Sam Howell|             18.26|             18.26|          1|\n",
            "|   Kyler Murray|            200.52| 18.22909090909091|         11|\n",
            "|   Daniel Jones|             289.0|           18.0625|         16|\n",
            "|     Geno Smith|            303.88| 17.87529411764706|         17|\n",
            "| Tua Tagovailoa|230.92000000000002|17.763076923076923|         13|\n",
            "|Trevor Lawrence|            295.62|17.389411764705883|         17|\n",
            "|   Kirk Cousins| 291.5799999999999| 17.15176470588235|         17|\n",
            "|     Jared Goff|283.31999999999994| 16.66588235294117|         17|\n",
            "|   Dak Prescott|             198.6|             16.55|         12|\n",
            "| Justin Herbert|279.25999999999993|16.427058823529407|         17|\n",
            "| Russell Wilson|224.75999999999993|14.983999999999996|         15|\n",
            "|Jimmy Garoppolo|164.78000000000003|14.980000000000002|         11|\n",
            "|     Derek Carr|219.08000000000004|14.605333333333336|         15|\n",
            "| Deshaun Watson| 85.58000000000001|14.263333333333335|          6|\n",
            "+---------------+------------------+------------------+-----------+\n",
            "only showing top 20 rows\n",
            "\n"
          ]
        }
      ]
    },
    {
      "cell_type": "markdown",
      "source": [
        "###Analysis\n",
        "- Davis Webb is the only player removed from the top 20 quarterbacks in this table. It is fair to assume that he was and still is (for 2023) a bench player who got the opportunity to start a single game. We don't want him in our roster.\n",
        "\n",
        "- It is interesting though that Sam Howell is still on this list and holding a strong position within the top 20 quarterbacks. Considering he was a highly touted prospect coming out of college, his skill set and potential have likely translated well to the professional level.\n",
        "\n",
        "- It's possible that he has shown significant growth and development since entering the league, proving himself as a reliable and competent starting quarterback."
      ],
      "metadata": {
        "id": "R8K0r_EyTg_R"
      }
    },
    {
      "cell_type": "markdown",
      "source": [
        "##5. What injuries if any do these quarterbacks have coming into the 2023 season? Join with the previous table the date, status, and comments of these injuries for all quarterbacks."
      ],
      "metadata": {
        "id": "4WJnGnX_JjCK"
      }
    },
    {
      "cell_type": "code",
      "source": [
        "final_df = final_df.join(injury_df, final_df[\"qbName\"] == injury_df[\"name\"], \"left_outer\") \\\n",
        "                   .sort(qb_tfp_df[\"totalFantasyPoints\"].desc()) \\\n",
        "                   .sort(qb_afp_df[\"avgFantasyPoints\"].desc())\n",
        "final_df = final_df.select(\"qbName\", \"totalFantasyPoints\", \"avgFantasyPoints\", \"gamesPlayed\", \"date\", \"status\", \"comment\")\n",
        "final_df.show(15)"
      ],
      "metadata": {
        "colab": {
          "base_uri": "https://localhost:8080/"
        },
        "id": "SjEeT8BuEN2K",
        "outputId": "3bdeb9a4-ea8c-4a8d-b737-eb6a1255802b"
      },
      "execution_count": null,
      "outputs": [
        {
          "output_type": "stream",
          "name": "stdout",
          "text": [
            "+---------------+------------------+------------------+-----------+------+------------+--------------------+\n",
            "|         qbName|totalFantasyPoints|  avgFantasyPoints|gamesPlayed|  date|      status|             comment|\n",
            "+---------------+------------------+------------------+-----------+------+------------+--------------------+\n",
            "|    Jalen Hurts|378.03999999999996|25.202666666666666|         15|  null|        null|                null|\n",
            "|     Josh Allen|395.52000000000004|24.720000000000002|         16|  null|        null|                null|\n",
            "|Patrick Mahomes|             416.4| 24.49411764705882|         17|  null|        null|                null|\n",
            "|     Joe Burrow|350.70000000000005|21.918750000000003|         16|  null|        null|                null|\n",
            "|  Justin Fields|            295.98|19.732000000000003|         15|  null|        null|                null|\n",
            "|  Lamar Jackson|236.07999999999998|19.673333333333332|         12|  null|        null|                null|\n",
            "|     Sam Howell|             18.26|             18.26|          1|  null|        null|                null|\n",
            "|   Kyler Murray|            200.52| 18.22909090909091|         11|Jul 12|Questionable|Murray (knee) sai...|\n",
            "|   Daniel Jones|             289.0|           18.0625|         16|  null|        null|                null|\n",
            "|     Geno Smith|            303.88| 17.87529411764706|         17|  null|        null|                null|\n",
            "| Tua Tagovailoa|230.92000000000002|17.763076923076923|         13|  null|        null|                null|\n",
            "|Trevor Lawrence|            295.62|17.389411764705883|         17|  null|        null|                null|\n",
            "|   Kirk Cousins| 291.5799999999999| 17.15176470588235|         17|  null|        null|                null|\n",
            "|     Jared Goff|283.31999999999994| 16.66588235294117|         17|  null|        null|                null|\n",
            "|   Dak Prescott|             198.6|             16.55|         12|  null|        null|                null|\n",
            "+---------------+------------------+------------------+-----------+------+------------+--------------------+\n",
            "only showing top 15 rows\n",
            "\n"
          ]
        }
      ]
    },
    {
      "cell_type": "markdown",
      "source": [
        "###Analysis\n",
        "- Amongst the top 15 quarterbacks, Kyler Murray is the only one going into the 2023 season potentially injured (Questionable).\n",
        "\n",
        "- Let's now retrieve the comment to see what is wrong with him and any other potentially injured quarterbacks."
      ],
      "metadata": {
        "id": "ZsUWTUjX3BQW"
      }
    },
    {
      "cell_type": "markdown",
      "source": [
        "##6. What are the names of all injured players and the comments on their injury reports.\n",
        "- We want to know which quarterbacks are going into the 2023 season injured and which are not."
      ],
      "metadata": {
        "id": "5jbzAIen3aAb"
      }
    },
    {
      "cell_type": "code",
      "source": [
        "temp_df = final_df\n",
        "temp_df = temp_df.filter(final_df[\"comment\"] != \"null\")\n",
        "temp_df = temp_df.select(\"qbName\", \"comment\")\n",
        "for x in temp_df.collect():\n",
        "  print(x[0], \":\", x[1])"
      ],
      "metadata": {
        "colab": {
          "base_uri": "https://localhost:8080/"
        },
        "id": "l87Z4feO2RBE",
        "outputId": "38242dfb-b71a-42dd-ccaf-005d009b4724"
      },
      "execution_count": null,
      "outputs": [
        {
          "output_type": "stream",
          "name": "stdout",
          "text": [
            "Kyler Murray : Murray (knee) said Wednesday that his goal is to be ready for Week 1, Tyler Drake of ArizonaSports.com reports.\n"
          ]
        }
      ]
    },
    {
      "cell_type": "markdown",
      "source": [
        "###Analysis\n",
        "- This comment made by Tyler Drake of ArizonaSports.com shows us that although Kyler Murray is facing a knee injury, he is likely to return for the start of the season.\n",
        "- We should keep Kyler Murray in mind and stay up to date with any further news regarding his situation.\n",
        "- It's not always ideal to draft a player who is coming into the season injured, as a reinjury is more likely to end their season or even career.\n",
        "- We will, therefore, remove Kyler Murray and any other injured players from our roster."
      ],
      "metadata": {
        "id": "_L_GmKW43Wop"
      }
    },
    {
      "cell_type": "markdown",
      "source": [
        "##7. What starting quarterbacks are healthy?\n",
        "- Remove all injured players from the table.\n",
        "- We want a QB that is going into the season healthy and ready to play."
      ],
      "metadata": {
        "id": "SzrNygG9Qy4Z"
      }
    },
    {
      "cell_type": "code",
      "source": [
        "temp_df = final_df.filter(col(\"comment\").isNull())\n",
        "final_df = temp_df.select(\"qbName\", \"totalFantasyPoints\", \"avgFantasyPoints\", \"gamesPlayed\")\n",
        "final_df.show()"
      ],
      "metadata": {
        "colab": {
          "base_uri": "https://localhost:8080/"
        },
        "id": "U5lXiewF5VNg",
        "outputId": "832fcbf9-087f-4227-abae-0fce904c33e5"
      },
      "execution_count": null,
      "outputs": [
        {
          "output_type": "stream",
          "name": "stdout",
          "text": [
            "+---------------+------------------+------------------+-----------+\n",
            "|         qbName|totalFantasyPoints|  avgFantasyPoints|gamesPlayed|\n",
            "+---------------+------------------+------------------+-----------+\n",
            "|    Jalen Hurts|378.03999999999996|25.202666666666666|         15|\n",
            "|     Josh Allen|395.52000000000004|24.720000000000002|         16|\n",
            "|Patrick Mahomes|             416.4| 24.49411764705882|         17|\n",
            "|     Joe Burrow|350.70000000000005|21.918750000000003|         16|\n",
            "|  Justin Fields|            295.98|19.732000000000003|         15|\n",
            "|  Lamar Jackson|236.07999999999998|19.673333333333332|         12|\n",
            "|     Sam Howell|             18.26|             18.26|          1|\n",
            "|   Daniel Jones|             289.0|           18.0625|         16|\n",
            "|     Geno Smith|            303.88| 17.87529411764706|         17|\n",
            "| Tua Tagovailoa|230.92000000000002|17.763076923076923|         13|\n",
            "|Trevor Lawrence|            295.62|17.389411764705883|         17|\n",
            "|   Kirk Cousins| 291.5799999999999| 17.15176470588235|         17|\n",
            "|     Jared Goff|283.31999999999994| 16.66588235294117|         17|\n",
            "|   Dak Prescott|             198.6|             16.55|         12|\n",
            "| Justin Herbert|279.25999999999993|16.427058823529407|         17|\n",
            "| Russell Wilson|224.75999999999993|14.983999999999996|         15|\n",
            "|Jimmy Garoppolo|164.78000000000003|14.980000000000002|         11|\n",
            "|     Derek Carr|219.08000000000004|14.605333333333336|         15|\n",
            "| Deshaun Watson| 85.58000000000001|14.263333333333335|          6|\n",
            "|  Aaron Rodgers|             239.2|14.070588235294117|         17|\n",
            "+---------------+------------------+------------------+-----------+\n",
            "only showing top 20 rows\n",
            "\n"
          ]
        }
      ]
    },
    {
      "cell_type": "markdown",
      "source": [
        "##8. Find the average fantasy points each team's wide receivers produce.\n",
        "- This is important because having good receivers means a quarterback will have higher chances of scoring more points in fantasy football."
      ],
      "metadata": {
        "id": "YVxjaoqHRLJY"
      }
    },
    {
      "cell_type": "code",
      "source": [
        "wr_afp_df = weekly_df.select(\"recent_team\", \"fantasy_points\") \\\n",
        "                     .filter((col(\"position\") == \"WR\") & (col(\"season\") == 2022)) \\\n",
        "                     .groupBy(\"recent_team\").agg({\"fantasy_points\": \"avg\"}) \\\n",
        "                     .withColumnRenamed(\"avg(fantasy_points)\", \"avgWRFantasyPoints\") \\\n",
        "                     .sort(\"avgWRFantasyPoints\", ascending = False)\n",
        "\n",
        "wr_afp_df.show()"
      ],
      "metadata": {
        "colab": {
          "base_uri": "https://localhost:8080/"
        },
        "id": "k1y2wiDZn_HZ",
        "outputId": "5ad1871e-00ee-4b52-e53a-2802c3c0885f"
      },
      "execution_count": null,
      "outputs": [
        {
          "output_type": "stream",
          "name": "stdout",
          "text": [
            "+-----------+------------------+\n",
            "|recent_team|avgWRFantasyPoints|\n",
            "+-----------+------------------+\n",
            "|        CIN| 7.630967741935484|\n",
            "|        MIN|              7.41|\n",
            "|         LV| 7.242909090909091|\n",
            "|        PHI| 7.156451612903225|\n",
            "|        LAC| 6.812087912087911|\n",
            "|        BUF|6.6085714285714285|\n",
            "|        MIA| 6.309876543209876|\n",
            "|        SEA| 6.012903225806452|\n",
            "|        JAX| 5.928358208955224|\n",
            "|        DET| 5.813235294117648|\n",
            "|        DAL| 5.777049180327868|\n",
            "|        WAS| 5.643055555555555|\n",
            "|         SF| 5.473846153846154|\n",
            "|         TB| 5.444303797468355|\n",
            "|         GB| 5.297260273972602|\n",
            "|        CLE|  5.19344262295082|\n",
            "|         NO| 5.077272727272728|\n",
            "|        ARI| 4.936231884057971|\n",
            "|        IND| 4.931746031746032|\n",
            "|        NYG|         4.8421875|\n",
            "+-----------+------------------+\n",
            "only showing top 20 rows\n",
            "\n"
          ]
        }
      ]
    },
    {
      "cell_type": "markdown",
      "source": [
        "##9. What are the average fantasy points each team's running backs.\n",
        "- This is important because when teams have good running backs, they will take away points from their quarterbacks."
      ],
      "metadata": {
        "id": "UAe4gFhPSJkH"
      }
    },
    {
      "cell_type": "code",
      "source": [
        "rb_afp_df = weekly_df.select(\"recent_team\", \"fantasy_points\") \\\n",
        "                     .filter((col(\"position\") == \"RB\") & (col(\"season\") == 2022)) \\\n",
        "                     .groupBy(\"recent_team\").agg({\"fantasy_points\": \"avg\"}) \\\n",
        "                     .withColumnRenamed(\"avg(fantasy_points)\", \"avgRBFantasyPoints\") \\\n",
        "                     .sort(\"avgRBFantasyPoints\", ascending = False)\n",
        "\n",
        "rb_afp_df.show()"
      ],
      "metadata": {
        "colab": {
          "base_uri": "https://localhost:8080/"
        },
        "id": "vSE-P9JvFHD0",
        "outputId": "5a8c87b6-8b48-4568-eb45-05040f68f591"
      },
      "execution_count": null,
      "outputs": [
        {
          "output_type": "stream",
          "name": "stdout",
          "text": [
            "+-----------+------------------+\n",
            "|recent_team|avgRBFantasyPoints|\n",
            "+-----------+------------------+\n",
            "|        DAL|              11.0|\n",
            "|         SF| 9.014358974358974|\n",
            "|        TEN| 8.960512820512822|\n",
            "|         GB| 8.582051282051282|\n",
            "|        DET| 8.528571428571427|\n",
            "|        CLE| 8.144186046511628|\n",
            "|        CIN| 7.878947368421054|\n",
            "|         NE| 7.555263157894737|\n",
            "|        MIN| 7.465789473684208|\n",
            "|         KC| 7.322448979591837|\n",
            "|        PIT|  7.25837837837838|\n",
            "|        CAR| 7.108695652173913|\n",
            "|        NYG| 7.092682926829268|\n",
            "|        CHI|6.8769230769230765|\n",
            "|        JAX| 6.765116279069767|\n",
            "|        SEA| 6.764285714285713|\n",
            "|         LV| 6.728571428571427|\n",
            "|        MIA| 6.702499999999999|\n",
            "|        LAC| 6.568518518518518|\n",
            "|         TB| 6.515384615384615|\n",
            "+-----------+------------------+\n",
            "only showing top 20 rows\n",
            "\n"
          ]
        }
      ]
    },
    {
      "cell_type": "markdown",
      "source": [
        "##10. Find the average fantasy points each team's tight ends produce.\n",
        "- This is important because having good tight ends means a quarterback will have higher chances of scoring more points in fantasy football."
      ],
      "metadata": {
        "id": "rbVNwFE6b4b8"
      }
    },
    {
      "cell_type": "code",
      "source": [
        "te_afp_df = weekly_df.select(\"recent_team\", \"fantasy_points\") \\\n",
        "                     .filter((col(\"position\") == \"TE\") & (col(\"season\") == 2022)) \\\n",
        "                     .groupBy(\"recent_team\").agg({\"fantasy_points\": \"avg\"}) \\\n",
        "                     .withColumnRenamed(\"avg(fantasy_points)\", \"avgTEFantasyPoints\") \\\n",
        "                     .sort(\"avgTEFantasyPoints\", ascending = False)\n",
        "\n",
        "te_afp_df.show()"
      ],
      "metadata": {
        "colab": {
          "base_uri": "https://localhost:8080/"
        },
        "id": "wELP2lyhTKpP",
        "outputId": "2ba5ca99-2bf6-47c6-fcf9-61bf18528387"
      },
      "execution_count": null,
      "outputs": [
        {
          "output_type": "stream",
          "name": "stdout",
          "text": [
            "+-----------+------------------+\n",
            "|recent_team|avgTEFantasyPoints|\n",
            "+-----------+------------------+\n",
            "|         SF| 6.507999999999999|\n",
            "|         KC| 6.202222222222223|\n",
            "|         NO|5.6000000000000005|\n",
            "|        BAL| 4.871428571428571|\n",
            "|         LV| 4.695833333333334|\n",
            "|        BUF| 4.581818181818182|\n",
            "|        DET| 4.233333333333333|\n",
            "|        ARI|3.9923076923076923|\n",
            "|        PHI|3.9481481481481473|\n",
            "|        DAL| 3.910810810810811|\n",
            "|         LA|             3.776|\n",
            "|        SEA| 3.753191489361703|\n",
            "|        MIN| 3.718181818181818|\n",
            "|        CLE|3.6121212121212123|\n",
            "|        CHI|3.6034482758620694|\n",
            "|        NYJ|          3.421875|\n",
            "|        JAX| 3.394594594594595|\n",
            "|        PIT|3.3027027027027023|\n",
            "|        HOU| 3.189361702127659|\n",
            "|        MIA| 3.144827586206896|\n",
            "+-----------+------------------+\n",
            "only showing top 20 rows\n",
            "\n"
          ]
        }
      ]
    },
    {
      "cell_type": "markdown",
      "source": [
        "##11. Here we are joining the above three tables to have a side by side comparison."
      ],
      "metadata": {
        "id": "C6jjBMllSeCB"
      }
    },
    {
      "cell_type": "code",
      "source": [
        "temp_df = final_df.join(starters_df, final_df[\"qbName\"] == starters_df[\"name\"])\n",
        "temp_df = temp_df.select(\"qbName\", \"avgFantasyPoints\", \"gamesPlayed\", \"abbreviation\")\n",
        "temp_df = temp_df.join(wr_afp_df, temp_df[\"abbreviation\"] == wr_afp_df[\"recent_team\"])\n",
        "temp_df = temp_df.join(rb_afp_df, temp_df[\"abbreviation\"] == rb_afp_df[\"recent_team\"])\n",
        "temp_df = temp_df.join(te_afp_df, temp_df[\"abbreviation\"] == te_afp_df[\"recent_team\"])\n",
        "temp_df = temp_df.select(\"qbName\", \"abbreviation\", \"gamesPlayed\", \"avgFantasyPoints\", \"avgWRFantasyPoints\", \"avgTEFantasyPoints\", \"avgRBFantasyPoints\")\n",
        "temp_df = temp_df.sort(\"avgFantasyPoints\", ascending = False)\n",
        "\n",
        "final_df = temp_df\n",
        "final_df.show()"
      ],
      "metadata": {
        "colab": {
          "base_uri": "https://localhost:8080/"
        },
        "id": "OnfNEIxQ4eNF",
        "outputId": "e9c7aefd-cf44-4f23-9f7f-e97faac89653"
      },
      "execution_count": null,
      "outputs": [
        {
          "output_type": "stream",
          "name": "stdout",
          "text": [
            "+---------------+------------+-----------+------------------+------------------+------------------+------------------+\n",
            "|         qbName|abbreviation|gamesPlayed|  avgFantasyPoints|avgWRFantasyPoints|avgTEFantasyPoints|avgRBFantasyPoints|\n",
            "+---------------+------------+-----------+------------------+------------------+------------------+------------------+\n",
            "|    Jalen Hurts|         PHI|         15|25.202666666666666| 7.156451612903225|3.9481481481481473| 6.347916666666667|\n",
            "|     Josh Allen|         BUF|         16|24.720000000000002|6.6085714285714285| 4.581818181818182| 5.485106382978723|\n",
            "|Patrick Mahomes|          KC|         17| 24.49411764705882| 4.663291139240506| 6.202222222222223| 7.322448979591837|\n",
            "|     Joe Burrow|         CIN|         16|21.918750000000003| 7.630967741935484| 2.725925925925926| 7.878947368421054|\n",
            "|  Justin Fields|         CHI|         15|19.732000000000003| 3.158666666666667|3.6034482758620694|6.8769230769230765|\n",
            "|  Lamar Jackson|         BAL|         12|19.673333333333332|3.5551724137931044| 4.871428571428571| 4.903846153846155|\n",
            "|     Sam Howell|         WAS|          1|             18.26| 5.643055555555555|             2.075| 6.368181818181821|\n",
            "|   Daniel Jones|         NYG|         16|           18.0625|         4.8421875|2.8968750000000005| 7.092682926829268|\n",
            "|     Geno Smith|         SEA|         17| 17.87529411764706| 6.012903225806452| 3.753191489361703| 6.764285714285713|\n",
            "| Tua Tagovailoa|         MIA|         13|17.763076923076923| 6.309876543209876| 3.144827586206896| 6.702499999999999|\n",
            "|Trevor Lawrence|         JAX|         17|17.389411764705883| 5.928358208955224| 3.394594594594595| 6.765116279069767|\n",
            "|   Kirk Cousins|         MIN|         17| 17.15176470588235|              7.41| 3.718181818181818| 7.465789473684208|\n",
            "|     Jared Goff|         DET|         17| 16.66588235294117| 5.813235294117648| 4.233333333333333| 8.528571428571427|\n",
            "|   Dak Prescott|         DAL|         12|             16.55| 5.777049180327868| 3.910810810810811|              11.0|\n",
            "| Justin Herbert|         LAC|         17|16.427058823529407| 6.812087912087911| 3.137142857142857| 6.568518518518518|\n",
            "| Russell Wilson|         DEN|         15|14.983999999999996| 4.584285714285714| 2.702325581395349| 5.845833333333334|\n",
            "|Jimmy Garoppolo|          LV|         11|14.980000000000002| 7.242909090909091| 4.695833333333334| 6.728571428571427|\n",
            "|     Derek Carr|          NO|         15|14.605333333333336| 5.077272727272728|5.6000000000000005| 5.816216216216217|\n",
            "| Deshaun Watson|         CLE|          6|14.263333333333335|  5.19344262295082|3.6121212121212123| 8.144186046511628|\n",
            "|  Aaron Rodgers|         NYJ|         17|14.070588235294117| 4.298400000000001|          3.421875| 6.202272727272728|\n",
            "+---------------+------------+-----------+------------------+------------------+------------------+------------------+\n",
            "only showing top 20 rows\n",
            "\n"
          ]
        }
      ]
    },
    {
      "cell_type": "markdown",
      "source": [
        "##12. What is the overall fantasy points for these quarterbacks according to the formula below?\n",
        "\n",
        "*Add the average fantasy points of qb to that of the qb's team's wide receivers and tight ends and subtract the points from running backs.*\n",
        "\n",
        "- Having good WRs and TEs means a QB has the opportunity to score more points in a game.\n",
        "- Having good RBs means a QB can't score as many points since the RB is running the ball more than the QB is passing it.\n"
      ],
      "metadata": {
        "id": "1HSFaYLXSlSm"
      }
    },
    {
      "cell_type": "code",
      "source": [
        "temp_df = final_df\n",
        "temp_df = temp_df.withColumn(\n",
        "    \"Overall Fantasy Points\",\n",
        "    temp_df[\"avgFantasyPoints\"] +\n",
        "    temp_df[\"avgWRFantasyPoints\"] +\n",
        "    temp_df[\"avgTEFantasyPoints\"] -\n",
        "    temp_df[\"avgRBFantasyPoints\"]\n",
        ")\n",
        "\n",
        "temp_df = temp_df.orderBy(temp_df[\"Overall Fantasy Points\"].desc())\n",
        "\n",
        "qbs = temp_df.select(\"qbName\", \"Overall Fantasy Points\").withColumnRenamed(\"qbName\", \"Name\")\n",
        "\n",
        "qbs.show()"
      ],
      "metadata": {
        "colab": {
          "base_uri": "https://localhost:8080/"
        },
        "id": "gxngL28LLnJh",
        "outputId": "fd15ff32-7073-4c6c-d47a-322d4e821e5a"
      },
      "execution_count": null,
      "outputs": [
        {
          "output_type": "stream",
          "name": "stdout",
          "text": [
            "+---------------+----------------------+\n",
            "|           Name|Overall Fantasy Points|\n",
            "+---------------+----------------------+\n",
            "|     Josh Allen|     30.42528322741089|\n",
            "|    Jalen Hurts|    29.959349761051374|\n",
            "|Patrick Mahomes|    28.037182028929717|\n",
            "|     Joe Burrow|    24.396696299440364|\n",
            "|  Lamar Jackson|    23.196088164708854|\n",
            "|     Geno Smith|    20.877103118529504|\n",
            "|   Kirk Cousins|     20.81415705037996|\n",
            "| Tua Tagovailoa|    20.515281052493698|\n",
            "|Jimmy Garoppolo|    20.190170995670996|\n",
            "|Trevor Lawrence|    19.947248289185936|\n",
            "| Justin Herbert|    19.807771074241657|\n",
            "|  Justin Fields|    19.617191865605662|\n",
            "|     Sam Howell|    19.609873737373736|\n",
            "|     Derek Carr|    19.466389844389845|\n",
            "|   Daniel Jones|    18.708879573170734|\n",
            "|     Jared Goff|     18.18387955182073|\n",
            "| Russell Wilson|    16.424777962347726|\n",
            "|  Aaron Rodgers|     15.58859050802139|\n",
            "|   Dak Prescott|     15.23785999113868|\n",
            "| Deshaun Watson|     14.92471112189374|\n",
            "+---------------+----------------------+\n",
            "only showing top 20 rows\n",
            "\n"
          ]
        }
      ]
    },
    {
      "cell_type": "markdown",
      "source": [
        "## 13. Break down the quarterbacks into 3 level tier system.\n",
        "\n",
        "Categorize the quarterbacks into three tiers: \"Elite,\" \"Solid,\" and \"Average.\" The tier cutoffs are determined dynamically based on the fantasy points of the quarterbacks. Cutoffs occur when there is a 3 point difference between quarterbacks or once we have deemed 3 QBs as \"Elite\" we will deem the next \"Solid\"."
      ],
      "metadata": {
        "id": "6U8aHFsZsoyP"
      }
    },
    {
      "cell_type": "code",
      "source": [
        "from pyspark.sql.functions import col, when\n",
        "\n",
        "# Initialize the cutoffs\n",
        "temp = -1000000.0\n",
        "tier1_cutoff = 0.0\n",
        "tier2_cutoff = 0.0\n",
        "count = 0\n",
        "\n",
        "# Find the tier cutoffs\n",
        "for x in qbs.collect():\n",
        "  count += 1\n",
        "  if temp == -1000000.0:\n",
        "      temp = float(x[1])\n",
        "  else:\n",
        "      if (temp - float(x[1]) > 3.0):\n",
        "          if tier1_cutoff == 0.0 or count == 3:\n",
        "              tier1_cutoff = float(x[1])\n",
        "          elif tier2_cutoff == 0.0:\n",
        "              tier2_cutoff = float(x[1])\n",
        "              break\n",
        "          temp = float(x[1])\n",
        "\n",
        "# Use DataFrame transformations to create a new column for the tier\n",
        "qbs_df = qbs.withColumn(\"Pick Quality\",\n",
        "                        when(col(\"Overall Fantasy Points\") > tier1_cutoff, \"Elite\")\n",
        "                        .when(col(\"Overall Fantasy Points\") > tier2_cutoff, \"Solid\")\n",
        "                        .otherwise(\"Average\"))\n",
        "\n",
        "# Show the DataFrame\n",
        "qbs_df.show(10)"
      ],
      "metadata": {
        "colab": {
          "base_uri": "https://localhost:8080/"
        },
        "id": "8b7cKTMpsmdT",
        "outputId": "bb1d4ebf-9cb0-4711-8009-33c5780e727a"
      },
      "execution_count": null,
      "outputs": [
        {
          "output_type": "stream",
          "name": "stdout",
          "text": [
            "+---------------+----------------------+------------+\n",
            "|           Name|Overall Fantasy Points|Pick Quality|\n",
            "+---------------+----------------------+------------+\n",
            "|     Josh Allen|     30.42528322741089|       Elite|\n",
            "|    Jalen Hurts|    29.959349761051374|       Elite|\n",
            "|Patrick Mahomes|    28.037182028929717|       Elite|\n",
            "|     Joe Burrow|    24.396696299440364|       Solid|\n",
            "|  Lamar Jackson|    23.196088164708854|       Solid|\n",
            "|     Geno Smith|    20.877103118529504|     Average|\n",
            "|   Kirk Cousins|     20.81415705037996|     Average|\n",
            "| Tua Tagovailoa|    20.515281052493698|     Average|\n",
            "|Jimmy Garoppolo|    20.190170995670996|     Average|\n",
            "|Trevor Lawrence|    19.947248289185936|     Average|\n",
            "+---------------+----------------------+------------+\n",
            "only showing top 10 rows\n",
            "\n"
          ]
        }
      ]
    },
    {
      "cell_type": "markdown",
      "source": [
        "##14. Dynamically classify quarterbacks based on performance ratios.\n",
        "1. The quarterbacks are categorized into different types such as \"Elite Dual Threat,\" \"Dual Threat,\" \"Elite Rusher,\" \"Rusher,\" \"Elite Pocket Passer,\" \"Pocket Passer,\" \"Scrambler,\" or \"None,\" depending on their average completions, passing yards, carries, and rushing yards ratios relative to the overall average for all players.\n",
        "\n",
        "2. In the formula for determining the category each quarterback falls in I am calculating the ratio between each individual quarterback's average key statistics to those of the average of of all quarterbacks' average key statistic.\n",
        "\n",
        "\n",
        "> - If avgCompletionsRatio is greater than or equal to 1.2 and avgPassingYardsRatio is greater than or equal to 1.2 and avgCarriesRatio is greater than or equal to 1.2 and avgRushingYardsRatio is greater than or equal to 1.2:\n",
        "\n",
        "> > > The Quarterback is categorized as \"Elite Dual Threat\"\n",
        "\n",
        "> - Else, if avgCompletionsRatio is greater than or equal to 1.0 and avgPassingYardsRatio is greater than or equal to 1.0 and avgCarriesRatio is greater than or equal to 1.0 and avgRushingYardsRatio is greater than or equal to 1.0:\n",
        "\n",
        "> > > The Quarterback is categorized as \"Dual Threat\"\n",
        "\n",
        "> - Else, if avgCarriesRatio is greater than or equal to 1.2 and avgRushingYardsRatio is greater than or equal to 1.2:\n",
        "\n",
        "> > > The Quarterback is categorized as \"Elite Rusher\"\n",
        "\n",
        "> - Else, if avgCarriesRatio is greater than or equal to 1.0 and avgRushingYardsRatio is greater than or equal to 1.0:\n",
        "\n",
        "> > > The Quarterback is categorized as \"Rusher\"\n",
        "\n",
        "> - Else, if avgCompletionsRatio is greater than or equal to 1.2 and avgPassingYardsRatio is greater than or equal to 1.2:\n",
        "\n",
        "> > > The Quarterback is categorized as \"Elite Pocket Passer\"\n",
        "\n",
        "> - Else, if avgCompletionsRatio is greater than or equal to 1.0 and avgPassingYardsRatio is greater than or equal to 1.0:\n",
        "\n",
        "> > > The Quarterback is categorized as \"Pocket Passer\"\n",
        "\n",
        "> - Else, if avgCarriesRatio is greater than or equal to 1.0:\n",
        "\n",
        "> > > The Quarterback is categorized as \"Scrambler\"\n",
        "\n",
        "> - Else:\n",
        "\n",
        "> > > The Quarterback is categorized as \"None\"\n",
        "\n",
        "\n",
        "\n",
        "\n"
      ],
      "metadata": {
        "id": "NFX6J2Zrcs0I"
      }
    },
    {
      "cell_type": "code",
      "source": [
        "from pyspark.sql import functions as F\n",
        "from pyspark.sql.types import StringType\n",
        "from pyspark.sql.functions import col, udf\n",
        "\n",
        "# Function to categorize quarterbacks based on their average performance ratios\n",
        "def categorize_quarterback(avgCompletionsRatio, avgPassingYardsRatio, avgCarriesRatio, avgRushingYardsRatio):\n",
        "    if avgCompletionsRatio >= 1.2 and avgPassingYardsRatio >= 1.2 and avgCarriesRatio >= 1.2 and avgRushingYardsRatio >= 1.2:\n",
        "        return \"Elite Dual Threat\"\n",
        "    elif avgCompletionsRatio >= 1.0 and avgPassingYardsRatio >= 1.0 and avgCarriesRatio >= 1.0 and avgRushingYardsRatio >= 1.0:\n",
        "        return \"Dual Threat\"\n",
        "    elif avgCarriesRatio >= 1.2 and avgRushingYardsRatio >= 1.2:\n",
        "        return \"Elite Rusher\"\n",
        "    elif avgCarriesRatio >= 1.0 and avgRushingYardsRatio >= 1.0:\n",
        "        return \"Rusher\"\n",
        "    elif avgCompletionsRatio >= 1.2 and avgPassingYardsRatio >= 1.2:\n",
        "        return \"Elite Pocket Passer\"\n",
        "    elif avgCompletionsRatio >= 1.0 and avgPassingYardsRatio >= 1.0:\n",
        "        return \"Pocket Passer\"\n",
        "    elif avgCarriesRatio >= 1.0:\n",
        "        return \"Scrambler\"\n",
        "    else:\n",
        "        return \"None\"\n",
        "\n",
        "# Filter and aggregate quarterback abilities\n",
        "abilities_df = weekly_df.filter((col(\"position\") == \"QB\") & (col(\"season\") == 2022)) \\\n",
        "                     .groupBy(\"name\").agg({\"completions\": \"avg\", \"passing_yards\": \"avg\", \"carries\": \"avg\", \"rushing_yards\": \"avg\"}) \\\n",
        "                     .withColumnRenamed(\"avg(carries)\", \"avgCarries\") \\\n",
        "                     .withColumnRenamed(\"avg(rushing_yards)\", \"avgRushingYards\") \\\n",
        "                     .withColumnRenamed(\"avg(completions)\", \"avgCompletions\") \\\n",
        "                     .withColumnRenamed(\"avg(passing_yards)\", \"avgPassingYards\")\n",
        "\n",
        "# Join the abilities DataFrame with the quarterbacks DataFrame\n",
        "temp_df = qbs_df.join(abilities_df, qbs_df[\"Name\"] == abilities_df[\"name\"])\n",
        "\n",
        "# Sort the DataFrame by Overall Fantasy Points in descending order and rename the \"category\" column to \"Type\"\n",
        "temp_df = temp_df.sort(\"Overall Fantasy Points\", ascending=False).withColumnRenamed(\"category\", \"Type\")\n",
        "\n",
        "# Select relevant columns for the final output\n",
        "temp_df = temp_df.select(qbs_df[\"Name\"], \"Overall Fantasy Points\", \"Pick Quality\",\"avgCarries\",\"avgRushingYards\", \"avgCompletions\", \"avgPassingYards\")\n",
        "\n",
        "# Calculating averages across all players\n",
        "totalCompletions = 0\n",
        "totalPassingYards = 0\n",
        "totalCarries = 0\n",
        "totalRushingYards = 0\n",
        "count = 0\n",
        "\n",
        "# Calculate the totals and counts\n",
        "for x in temp_df.collect():\n",
        "    totalCompletions += x[5]\n",
        "    totalPassingYards += x[6]\n",
        "    totalCarries += x[3]\n",
        "    totalRushingYards += x[4]\n",
        "    count += 1\n",
        "averageCompletions = totalCompletions / count\n",
        "averagePassingYards = totalPassingYards / count\n",
        "averageCarries = totalCarries / count\n",
        "averageRushingYards = totalRushingYards / count\n",
        "\n",
        "# Calculate the ratios for each Type relative to the average values\n",
        "temp_df = temp_df.withColumn(\"avgCarriesRatio\", col(\"avgCarries\") / averageCarries) \\\n",
        "                 .withColumn(\"avgPassingYardsRatio\", col(\"avgPassingYards\") / averagePassingYards) \\\n",
        "                 .withColumn(\"avgCompletionsRatio\", col(\"avgCompletions\") / averageCompletions) \\\n",
        "                 .withColumn(\"avgRushingYardsRatio\", col(\"avgRushingYards\") / averageRushingYards)\n",
        "\n",
        "# Select relevant columns for the final output\n",
        "temp_df.select(\"Name\", \"Overall Fantasy Points\", \"Pick Quality\", \"avgCompletionsRatio\", \"avgPassingYardsRatio\", \"avgCarriesRatio\", \"avgRushingYardsRatio\")\n",
        "\n",
        "# Define a User-Defined Function (udf) to categorize quarterbacks based on the ratios\n",
        "categorize_udf = udf(categorize_quarterback, StringType())\n",
        "\n",
        "# Apply the UDF to create the \"Type\" column based on the calculated ratios\n",
        "temp_df = temp_df.withColumn(\"Type\", categorize_udf(col(\"avgCompletionsRatio\"), col(\"avgPassingYardsRatio\"), col(\"avgCarriesRatio\"), col(\"avgRushingYardsRatio\")))\n",
        "\n",
        "# Select the relevant columns for the final output and show the results\n",
        "final_df = temp_df.select(\"Name\", \"Overall Fantasy Points\", \"Pick Quality\", \"Type\")\n",
        "final_df.show(10)"
      ],
      "metadata": {
        "colab": {
          "base_uri": "https://localhost:8080/"
        },
        "id": "r55rosZpxeuf",
        "outputId": "a1ec73ba-f592-41bd-ea43-d42b3f0a3e0f"
      },
      "execution_count": null,
      "outputs": [
        {
          "output_type": "stream",
          "name": "stdout",
          "text": [
            "+---------------+----------------------+------------+-------------------+\n",
            "|           Name|Overall Fantasy Points|Pick Quality|               Type|\n",
            "+---------------+----------------------+------------+-------------------+\n",
            "|     Josh Allen|     30.42528322741089|       Elite|        Dual Threat|\n",
            "|    Jalen Hurts|    29.959349761051374|       Elite|        Dual Threat|\n",
            "|Patrick Mahomes|    28.037182028929717|       Elite|Elite Pocket Passer|\n",
            "|     Joe Burrow|    24.396696299440364|       Solid|Elite Pocket Passer|\n",
            "|  Lamar Jackson|    23.196088164708854|       Solid|       Elite Rusher|\n",
            "|     Geno Smith|    20.877103118529504|     Average|      Pocket Passer|\n",
            "|   Kirk Cousins|     20.81415705037996|     Average|Elite Pocket Passer|\n",
            "| Tua Tagovailoa|    20.515281052493698|     Average|      Pocket Passer|\n",
            "|Jimmy Garoppolo|    20.190170995670996|     Average|               None|\n",
            "|Trevor Lawrence|    19.947248289185936|     Average|      Pocket Passer|\n",
            "+---------------+----------------------+------------+-------------------+\n",
            "only showing top 10 rows\n",
            "\n"
          ]
        }
      ]
    },
    {
      "cell_type": "markdown",
      "source": [
        "## 15. Add Descriptions for QB Types (Dynamic classification system for QBs).\n",
        "The QB Type, QB Type Description table shows what each category of QB Type represents."
      ],
      "metadata": {
        "id": "h3xrFzVKc-qU"
      }
    },
    {
      "cell_type": "code",
      "source": [
        "from pyspark.sql import functions as F\n",
        "from pyspark.sql.types import StringType\n",
        "from pyspark.sql.functions import col, udf\n",
        "\n",
        "descriptions = {\n",
        "    \"Elite Dual Threat\": \"Can pass and run effectively, an elite dual threat quarterback.\",\n",
        "    \"Dual Threat\": \"Capable of both passing and running the ball effectively.\",\n",
        "    \"Elite Rusher\": \"An elite rushing quarterback, excelling in running plays.\",\n",
        "    \"Rusher\": \"A quarterback who performs well in running plays.\",\n",
        "    \"Elite Pocket Passer\": \"An elite quarterback with exceptional passing abilities from the pocket.\",\n",
        "    \"Pocket Passer\": \"A quarterback who relies on passing skills from the pocket.\",\n",
        "    \"Scrambler\": \"Known for scrambling and running the ball when needed.\",\n",
        "    \"None\": \"Does not fit into any specific category based on the average ratios.\"\n",
        "}\n",
        "\n",
        "# Define a function to map the type to its description\n",
        "def map_ability_to_description(type):\n",
        "    return descriptions.get(type, \"None\")\n",
        "\n",
        "# Select the relevant columns for the final output and show the results\n",
        "final_df = final_df.select(\"Name\", \"Overall Fantasy Points\", \"Pick Quality\", \"Type\") \\\n",
        "       .withColumn(\"QB Type Description\", F.udf(map_ability_to_description, StringType())(\"Type\")) \\\n",
        "       .withColumnRenamed(\"Type\", \"QB Type\")\n",
        "final_df.show(10)\n",
        "\n",
        "# Print the QB Types and QB Type Descriptions\n",
        "max_qb_type_width = max(len(x) for x in descriptions.keys())\n",
        "max_description_width = max(len(y) for y in descriptions.values())\n",
        "\n",
        "output_text = f\"+{'-' * (max_qb_type_width + 2)}+{'-' * (max_description_width + 2)}+\\n\"\n",
        "output_text += f\"| {'QB Type':<{max_qb_type_width}} | {'QB Type Description':<{max_description_width}} |\\n\"\n",
        "output_text += f\"+{'-' * (max_qb_type_width + 2)}+{'-' * (max_description_width + 2)}+\\n\"\n",
        "\n",
        "for x, y in descriptions.items():\n",
        "    output_text += f\"| {x:<{max_qb_type_width}} | {y:<{max_description_width}} |\\n\"\n",
        "\n",
        "output_text += f\"+{'-' * (max_qb_type_width + 2)}+{'-' * (max_description_width + 2)}+\\n\"\n",
        "print(output_text)"
      ],
      "metadata": {
        "colab": {
          "base_uri": "https://localhost:8080/"
        },
        "id": "2PGpXmgRTFIa",
        "outputId": "df268ca5-37a8-4259-8d18-b19c534816bd"
      },
      "execution_count": null,
      "outputs": [
        {
          "output_type": "stream",
          "name": "stdout",
          "text": [
            "+---------------+----------------------+------------+-------------------+--------------------+\n",
            "|           Name|Overall Fantasy Points|Pick Quality|            QB Type| QB Type Description|\n",
            "+---------------+----------------------+------------+-------------------+--------------------+\n",
            "|     Josh Allen|     30.42528322741089|       Elite|        Dual Threat|Capable of both p...|\n",
            "|    Jalen Hurts|    29.959349761051374|       Elite|        Dual Threat|Capable of both p...|\n",
            "|Patrick Mahomes|    28.037182028929717|       Elite|Elite Pocket Passer|An elite quarterb...|\n",
            "|     Joe Burrow|    24.396696299440364|       Solid|Elite Pocket Passer|An elite quarterb...|\n",
            "|  Lamar Jackson|    23.196088164708854|       Solid|       Elite Rusher|An elite rushing ...|\n",
            "|     Geno Smith|    20.877103118529504|     Average|      Pocket Passer|A quarterback who...|\n",
            "|   Kirk Cousins|     20.81415705037996|     Average|Elite Pocket Passer|An elite quarterb...|\n",
            "| Tua Tagovailoa|    20.515281052493698|     Average|      Pocket Passer|A quarterback who...|\n",
            "|Jimmy Garoppolo|    20.190170995670996|     Average|               None|Does not fit into...|\n",
            "|Trevor Lawrence|    19.947248289185936|     Average|      Pocket Passer|A quarterback who...|\n",
            "+---------------+----------------------+------------+-------------------+--------------------+\n",
            "only showing top 10 rows\n",
            "\n",
            "+---------------------+--------------------------------------------------------------------------+\n",
            "| QB Type             | QB Type Description                                                      |\n",
            "+---------------------+--------------------------------------------------------------------------+\n",
            "| Elite Dual Threat   | Can pass and run effectively, an elite dual threat quarterback.          |\n",
            "| Dual Threat         | Capable of both passing and running the ball effectively.                |\n",
            "| Elite Rusher        | An elite rushing quarterback, excelling in running plays.                |\n",
            "| Rusher              | A quarterback who performs well in running plays.                        |\n",
            "| Elite Pocket Passer | An elite quarterback with exceptional passing abilities from the pocket. |\n",
            "| Pocket Passer       | A quarterback who relies on passing skills from the pocket.              |\n",
            "| Scrambler           | Known for scrambling and running the ball when needed.                   |\n",
            "| None                | Does not fit into any specific category based on the average ratios.     |\n",
            "+---------------------+--------------------------------------------------------------------------+\n",
            "\n"
          ]
        }
      ]
    },
    {
      "cell_type": "markdown",
      "source": [
        "#Conclusion:\n",
        "\n",
        "In analyzing the fantasy football performance of quarterbacks, it's essential to acknowledge that real-life football is a multifaceted team sport where a quarterback's performance is influenced by various factors beyond the quality of their teammates. Furthermore, individual player performance can be subject to numerous variables such as opposing team defenses, weather conditions, injuries, and coaching strategies.\n",
        "\n",
        "While this analysis has provided valuable insights into the categorization of quarterbacks based on their abilities and overall fantasy performance, there are several considerations for future analysis to further enhance the understanding of quarterback performance in fantasy football:\n",
        "\n",
        "- **Schedules and Opposing Defenses**: To gain deeper insights into quarterback performance, it would be beneficial to incorporate the quality of opposing defenses that a team faces. This could involve developing a ranking system or utilizing key statistics to measure the defensive capabilities of all NFL teams. By joining this information with the quarterback data, a more comprehensive understanding of how varying defensive strengths impact quarterback performance can be achieved.\n",
        "\n",
        "- **Injury History**: To account for the impact of injuries on quarterback performance, obtaining more detailed injury data could be crucial. This would involve considering specific injury types, recovery times, and other important details related to injuries. Understanding how injuries affect a quarterback's consistency and long-term performance could provide valuable insights for fantasy football strategies.\n",
        "\n",
        "- **Weather Conditions**: Weather conditions play a significant role in NFL games, affecting quarterbacks' passing accuracy and overall performance. Incorporating data on weather patterns at every active NFL stadium on a week-by-week basis would enable the examination of how different weather conditions impact quarterback fantasy output. This consideration could lead to more informed decisions when selecting quarterbacks for specific game scenarios.\n",
        "\n",
        "- **Social Media Analysis**: Monitoring social media activity of quarterbacks could offer insights into their mental state, public perception, and possible distractions that may influence their performance. Analyzing social media data could provide a window into the quarterback's off-field activities and their dedication to improving their game. This aspect of analysis could help assess the psychological and emotional factors that might affect their on-field performance.\n",
        "\n",
        "In conclusion, while this analysis has categorized quarterbacks based on their abilities and fantasy football performance, it is vital to consider the broader context of real-life football and the numerous factors that influence quarterback play. Incorporating additional data and exploring different dimensions could lead to a more comprehensive and nuanced understanding of quarterback performance in the realm of fantasy football. These potential considerations open up exciting avenues for further research and could empower fantasy football enthusiasts to make more informed decisions when drafting quarterbacks for their teams."
      ],
      "metadata": {
        "id": "9lhVIyQ5ZQlF"
      }
    }
  ]
}